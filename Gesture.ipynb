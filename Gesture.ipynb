{
  "nbformat": 4,
  "nbformat_minor": 0,
  "metadata": {
    "colab": {
      "provenance": []
    },
    "kernelspec": {
      "name": "python3",
      "display_name": "Python 3"
    },
    "language_info": {
      "name": "python"
    }
  },
  "cells": [
    {
      "cell_type": "code",
      "source": [
        "import pandas as pd\n",
        "import random\n",
        "import csv\n",
        "import numpy as np"
      ],
      "metadata": {
        "id": "B2sEWwv_pZ4T"
      },
      "execution_count": null,
      "outputs": []
    },
    {
      "cell_type": "code",
      "source": [
        "project_dataset_dir = '/kaggle/input/emg-signal-for-gesture-recognition/EMG-data.csv'\n",
        "df = pd.read_csv(project_dataset_dir)"
      ],
      "metadata": {
        "id": "m1ZP5W3FpbaS"
      },
      "execution_count": null,
      "outputs": []
    },
    {
      "cell_type": "code",
      "source": [
        "def normalized(data):\n",
        "    min_value = np.min(data)\n",
        "    max_value = np.max(data)\n",
        "    normalized_data = (data - min_value) / (max_value - min_value)\n",
        "    return normalized_data"
      ],
      "metadata": {
        "id": "YRpCefzYpeWy"
      },
      "execution_count": null,
      "outputs": []
    },
    {
      "cell_type": "code",
      "source": [
        "def sliding_window(data, window_size, stride):\n",
        "    windowed_data = []\n",
        "    labels = []\n",
        "\n",
        "    for i in range(0, len(data) - window_size + 1, stride):\n",
        "        windowed = data.iloc[i:i+window_size, :-1].values  # Etiket sütununu hariç al ve NumPy array'e dönüştür\n",
        "        label = data.iloc[i+window_size-1, -1]  # Son sütunu etiket olarak kullan\n",
        "        windowed_data.append(windowed)\n",
        "        labels.append(label)\n",
        "\n",
        "    return np.array(windowed_data), np.array(labels)"
      ],
      "metadata": {
        "id": "UfuRWCcHpmO4"
      },
      "execution_count": null,
      "outputs": []
    },
    {
      "cell_type": "code",
      "source": [
        "window_size=128\n",
        "stride=64\n",
        "X, Y = sliding_window(data, 128, 64)"
      ],
      "metadata": {
        "id": "H76EB3oBprrJ"
      },
      "execution_count": null,
      "outputs": []
    },
    {
      "cell_type": "code",
      "source": [
        "X = normalized(X)"
      ],
      "metadata": {
        "id": "eLX-g9rEpwtd"
      },
      "execution_count": null,
      "outputs": []
    },
    {
      "cell_type": "code",
      "execution_count": null,
      "metadata": {
        "id": "RkpDkjU4CYaf"
      },
      "outputs": [],
      "source": [
        "import torch\n",
        "import torch.nn as nn\n",
        "import torch.optim as optim\n",
        "import torchvision\n",
        "import torchvision.transforms as transforms\n",
        "import torch.nn.functional as F\n"
      ]
    },
    {
      "cell_type": "code",
      "source": [
        "class Net(nn.Module):\n",
        "    def __init__(self):\n",
        "        super(Net, self).__init__()\n",
        "        self.conv1 = nn.Conv2d(3, 32, 2)\n",
        "        self.pool = nn.MaxPool2d(2, 2)\n",
        "        self.conv2 = nn.Conv2d(32, 64, 4)\n",
        "        self.conv3 = nn.Conv2d(64, 64, 2)\n",
        "        self.fc1 = nn.Linear(16 * 5 * 5, 1024)\n",
        "        self.fc2 = nn.Linear(1024, 8)\n",
        "        self.fc3 = nn.Linear(84, 10)\n",
        "\n",
        "    def forward(self, x):\n",
        "        x = self.pool(F.relu(self.conv1(x)))\n",
        "        x = self.pool(F.relu(self.conv2(x)))\n",
        "        x = self.pool(F.relu(self.conv3(x)))\n",
        "        x = x.view(-1, 16 * 5 * 5)\n",
        "        x = F.relu(self.fc1(x))\n",
        "        x = F.relu(self.fc2(x))\n",
        "        x = self.fc3(x)\n",
        "        return x\n",
        "\n",
        "net = Net()"
      ],
      "metadata": {
        "id": "7lmMFS4RCq4X"
      },
      "execution_count": null,
      "outputs": []
    },
    {
      "cell_type": "code",
      "source": [],
      "metadata": {
        "id": "0Wp3xoBFmOf4"
      },
      "execution_count": null,
      "outputs": []
    }
  ]
}